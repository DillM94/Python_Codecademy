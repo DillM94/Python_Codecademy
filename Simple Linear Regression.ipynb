{
 "cells": [
  {
   "cell_type": "markdown",
   "metadata": {},
   "source": [
    "# Program to Calculate the Equation of a Line and Error"
   ]
  },
  {
   "cell_type": "code",
   "execution_count": 1,
   "metadata": {},
   "outputs": [],
   "source": [
    "def get_y(m,b,x):\n",
    "    \n",
    "    '''\n",
    "    Inputs: \n",
    "        m - slope\n",
    "        b - intercept\n",
    "        x - x_point\n",
    "    \n",
    "    Outputs: \n",
    "        \n",
    "        y - y_point satisfying y = m*x + b\n",
    "    '''\n",
    "    \n",
    "    return m*x + b"
   ]
  },
  {
   "cell_type": "code",
   "execution_count": 2,
   "metadata": {},
   "outputs": [
    {
     "name": "stdout",
     "output_type": "stream",
     "text": [
      "True\n"
     ]
    }
   ],
   "source": [
    "print(get_y(1,0,1) == 1)"
   ]
  },
  {
   "cell_type": "code",
   "execution_count": 3,
   "metadata": {},
   "outputs": [],
   "source": [
    "def calculate_error(m,b,point):\n",
    "    \n",
    "    '''\n",
    "    Inputs:\n",
    "        m - slope\n",
    "        b - intercept\n",
    "        point - (x,y) point\n",
    "    \n",
    "    Outputs:\n",
    "        error - given by distance from y in point to calculated y\n",
    "    '''\n",
    "    \n",
    "    x_point, y_point = point\n",
    "    y = get_y(m,b,x_point)\n",
    "    return abs(y-y_point)"
   ]
  },
  {
   "cell_type": "code",
   "execution_count": 4,
   "metadata": {
    "scrolled": true
   },
   "outputs": [
    {
     "name": "stdout",
     "output_type": "stream",
     "text": [
      "1\n"
     ]
    }
   ],
   "source": [
    "print(calculate_error(1,0,(3,4)))"
   ]
  },
  {
   "cell_type": "code",
   "execution_count": 5,
   "metadata": {},
   "outputs": [],
   "source": [
    "def calculate_all_error(m,b,points):\n",
    " \n",
    "    '''\n",
    "    Inputs: \n",
    "        m - slope\n",
    "        b - intercept\n",
    "        points - multiple (x,y) points\n",
    "    \n",
    "    Outputs: \n",
    "        total_error - the error calculated by iterating through all points\n",
    "    '''\n",
    "\n",
    "    total_error = 0\n",
    "    for point in points:\n",
    "        total_error += calculate_error(m,b,point)\n",
    "    return total_error"
   ]
  },
  {
   "cell_type": "code",
   "execution_count": 6,
   "metadata": {},
   "outputs": [
    {
     "name": "stdout",
     "output_type": "stream",
     "text": [
      "4\n"
     ]
    }
   ],
   "source": [
    "data = [(1,1), (3,3), (5,5), (-1,-1)]\n",
    "print(calculate_all_error(1,1,data))"
   ]
  },
  {
   "cell_type": "markdown",
   "metadata": {},
   "source": [
    "# Generating Slopes and Intercepts"
   ]
  },
  {
   "cell_type": "code",
   "execution_count": 16,
   "metadata": {},
   "outputs": [
    {
     "name": "stdout",
     "output_type": "stream",
     "text": [
      "2000\n"
     ]
    }
   ],
   "source": [
    "# Generating a list of slopes from -10 to 10 in steps of 0.01\n",
    "all_m = [m*0.01 for m in range(-1000,1000)]\n",
    "print(len(all_m))"
   ]
  },
  {
   "cell_type": "code",
   "execution_count": 14,
   "metadata": {},
   "outputs": [
    {
     "name": "stdout",
     "output_type": "stream",
     "text": [
      "2000\n"
     ]
    }
   ],
   "source": [
    "# Generating a list of all intercepts from -10 to 10 in steps of 0.01\n",
    "all_b = [b*0.01 for b in range(-1000,1000)]\n",
    "print(len(all_b))"
   ]
  },
  {
   "cell_type": "markdown",
   "metadata": {},
   "source": [
    "# Simple Linear Regression"
   ]
  },
  {
   "cell_type": "code",
   "execution_count": 32,
   "metadata": {},
   "outputs": [],
   "source": [
    "def linear_model(data):\n",
    "    \n",
    "    '''\n",
    "    Input: \n",
    "        data - datapoints of any length\n",
    "        \n",
    "    Output:\n",
    "        smallest_error = Error over the datapoints\n",
    "        opt_m = Optimal slope\n",
    "        opt_b = Optimal intercept\n",
    "    '''\n",
    "\n",
    "    smallest_error = float('inf') # Smallest error starts at infinity\n",
    "    opt_m = 0 # Initialising optimized slope\n",
    "    opt_b = 0 # Initialising optimized intercept\n",
    "\n",
    "    for m in all_m:\n",
    "        for b in all_b:\n",
    "            new_error = calculate_all_error(m,b,data)\n",
    "            if new_error < smallest_error:\n",
    "                smallest_error = new_error\n",
    "                opt_m = m\n",
    "                opt_b = b\n",
    "    return smallest_error, opt_m, opt_b"
   ]
  },
  {
   "cell_type": "code",
   "execution_count": 36,
   "metadata": {},
   "outputs": [
    {
     "name": "stdout",
     "output_type": "stream",
     "text": [
      "(1.599999999999999, 1.2, 0.7000000000000001)\n",
      "The equation of the line is: y = 1.2*x + 0.7\n",
      "The error is: 1.6\n"
     ]
    }
   ],
   "source": [
    "data = [(1,1.7), (1.5,2.3), (2,3.1), (2.5,3.9), (3,4.3), (3.5,5.1), (4,5.5), (4.5, 5.8), (5,6.2)] # Random data\n",
    "print(linear_model(data))\n",
    "print('The equation of the line is: y = ' +str(round(opt_m,2))+ '*x + ' +str(round(opt_b,2)))\n",
    "print('The error is: ' +str(round(smallest_error, 2)))"
   ]
  },
  {
   "cell_type": "code",
   "execution_count": 24,
   "metadata": {},
   "outputs": [],
   "source": [
    "import matplotlib.pyplot as plt"
   ]
  },
  {
   "cell_type": "code",
   "execution_count": 37,
   "metadata": {},
   "outputs": [
    {
     "name": "stdout",
     "output_type": "stream",
     "text": [
      "[1, 1.5, 2, 2.5, 3, 3.5, 4, 4.5, 5]\n",
      "[1.7, 2.3, 3.1, 3.9, 4.3, 5.1, 5.5, 5.8, 6.2]\n"
     ]
    }
   ],
   "source": [
    "x = [x for (x,y) in data]\n",
    "print(x)\n",
    "y = [y for (x,y) in data]\n",
    "print(y)"
   ]
  },
  {
   "cell_type": "code",
   "execution_count": 40,
   "metadata": {},
   "outputs": [
    {
     "data": {
      "text/plain": [
       "<function matplotlib.pyplot.show(*args, **kw)>"
      ]
     },
     "execution_count": 40,
     "metadata": {},
     "output_type": "execute_result"
    },
    {
     "data": {
      "image/png": "[encoded data removed]",
      "text/plain": [
       "<Figure size 432x288 with 1 Axes>"
      ]
     },
     "metadata": {
      "needs_background": "light"
     },
     "output_type": "display_data"
    }
   ],
   "source": [
    "y_line = [opt_m*x + opt_b for x in x if x < 5]\n",
    "plt.title('Simple Linear Regression')\n",
    "plt.scatter(x,y)\n",
    "plt.plot(y_line)\n",
    "plt.show"
   ]
  }
 ],
 "metadata": {
  "kernelspec": {
   "display_name": "Python 3",
   "language": "python",
   "name": "python3"
  },
  "language_info": {
   "codemirror_mode": {
    "name": "ipython",
    "version": 3
   },
   "file_extension": ".py",
   "mimetype": "text/x-python",
   "name": "python",
   "nbconvert_exporter": "python",
   "pygments_lexer": "ipython3",
   "version": "3.7.6"
  }
 },
 "nbformat": 4,
 "nbformat_minor": 4
}
